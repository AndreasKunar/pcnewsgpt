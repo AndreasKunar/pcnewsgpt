{
 "cells": [
  {
   "cell_type": "markdown",
   "metadata": {},
   "source": [
    "# Test PyMUPDF PDF-Reading\n",
    "\n",
    "## Ziel: Strukturen erkennen, Grafikseiten ignorieren\n",
    "\n",
    "***important:*** needs installed PyMUPDF\n",
    "\n",
    "`doc` content:\n",
    "+ `.metadata` {'format': 'PDF 1.7', 'title': 'n178.pub', 'author': 'ffiala', 'subject': '', 'keywords': '', 'creator': '', 'producer': 'Microsoft: Print To PDF', 'creationDate': \"D:20230813091931+02'00'\", 'modDate': \"D:20230813091931+02'00'\", 'trapped': '', \n",
    " 'encryption': None}\n",
    "+ `.page_count`\n",
    "+ iterator items = pages\n",
    "\n",
    "`page` content:\n",
    "+ `.get_text()`\n",
    "+ `.number`\n",
    "\n",
    "Koordinatenbeschreibung: https://www.pdfscripting.com/public/PDF-Page-Coordinates.cfm"
   ]
  },
  {
   "cell_type": "code",
   "execution_count": 2,
   "metadata": {},
   "outputs": [
    {
     "name": "stdout",
     "output_type": "stream",
     "text": [
      "Document Metadata:{'format': 'PDF 1.7', 'title': '', 'author': 'Franz Fiala', 'subject': '', 'keywords': '', 'creator': 'Microsoft® Publisher für Office 365', 'producer': 'Microsoft® Publisher für Office 365', 'creationDate': \"D:20190622092518+02'00'\", 'modDate': \"D:20190622092518+02'00'\", 'trapped': '', 'encryption': None}\n",
      "Page:1 - Full-Page Image: 21.54x30.46 cm\n",
      "Page:39 - Full-Page Image: 21.7x30.69 cm\n"
     ]
    }
   ],
   "source": [
    "fname = '/Users/andi/Projects/pcnewsgpt/source_documents/n150.pdf'\n",
    "#fname = '/Users/andi/Projects/pcnewsgpt/source_documents/n178.pdf'\n",
    "\n",
    "import fitz as PyMuPDF\n",
    "with PyMuPDF.open(fname) as doc:  # open document\n",
    "\n",
    "    # *** Document Metadata is in doc.metadata ***\n",
    "    #   .'format': 'PDF 1.7', \n",
    "    #   .'author': 'Franz Fiala', \n",
    "    #   .'producer': 'Microsoft® Publisher für Office 365', \n",
    "    #   .'creationDate': \"D:20190622092518+02'00'\", \n",
    "\n",
    "    for page in doc:           # iterate the document pages\n",
    "\n",
    "        # get the text\n",
    "        text = page.get_text(flags= PyMuPDF.TEXT_PRESERVE_WHITESPACE | \n",
    "                             PyMuPDF.TEXT_INHIBIT_SPACES | \n",
    "                             PyMuPDF.TEXT_DEHYPHENATE | \n",
    "                             PyMuPDF.TEXT_PRESERVE_SPANS | \n",
    "                             PyMuPDF.TEXT_MEDIABOX_CLIP, \n",
    "                             sort=True).replace(\"\\n\", \" \")\n",
    "        \n",
    "        #  *** Pages ***\n",
    "        #   .number\n",
    "        #   text\n",
    "        \n",
    "        # calculate the page's width and height in\n",
    "        page_w = round((page.mediabox.x1 - page.mediabox.x0)/72*2.54,2)     # 72 dpi, 2,54 cm / inch\n",
    "        page_h = round((page.mediabox.y1 - page.mediabox.y0)/72*2.54,2)\n",
    "\n",
    "        # get the images and calculate concatenated img width x height\n",
    "        image_infos = page.get_image_info()\n",
    "        i=None\n",
    "        for image_info in image_infos:\n",
    "            x = image_info.get('bbox')[0]/72*2.54                           # 72 dpi, 2,54 cm / inch\n",
    "            y = image_info.get('bbox')[1]/72*2.54\n",
    "            w = (image_info.get('bbox')[2]-image_info.get('bbox')[0])/72*2.54\n",
    "            h = (image_info.get('bbox')[3]-image_info.get('bbox')[1])/72*2.54\n",
    "            # 1st or next image\n",
    "            if i is None:\n",
    "                imgs=[{'x':x, 'y':y, 'w': w,'h':h }]\n",
    "                i=0\n",
    "            else:\n",
    "                prev_img = imgs[i]\n",
    "                # try concatenate images vertically (same x and w)\n",
    "                if (x == prev_img.get('x')) and (w == prev_img.get('w')) and (abs(y - prev_img.get('y') - prev_img.get('h')) < 0.1):\n",
    "                    # extend image height\n",
    "                    imgs[i]['h'] += h\n",
    "                # try concatenate horizontally (same y and h)              \n",
    "                elif (y == prev_img.get('y')) and (h == prev_img.get('h')) and (abs(x - prev_img.get('x') - prev_img.get('w')) < 0.1):\n",
    "                    # extend image width\n",
    "                    imgs[i]['w'] += w\n",
    "                else:\n",
    "                    imgs.append({'x':x, 'y':y, 'w': w,'h':h })\n",
    "                    i=i+1\n",
    "        \n",
    "        # check if full-page image\n",
    "        fullpage_img = False\n",
    "        for img in imgs:\n",
    "            if (img.get('w') > page_w*0.95) and (img.get('h') > page_h*0.95):   # 95% of page width and height is enough\n",
    "                fullpage_img = True\n",
    "                print(f\"Page:{page.number+1} - Full-Page Image: {round(img['w'],2)}x{round(img['h'],2)} cm\")\n",
    "                break\n",
    "\n",
    "        #  *** Pages ***\n",
    "        #   .number\n",
    "        #   fullpage_img False/True\n",
    "\n",
    "\n",
    "\n"
   ]
  }
 ],
 "metadata": {
  "kernelspec": {
   "display_name": "pcnewsgpt2",
   "language": "python",
   "name": "python3"
  },
  "language_info": {
   "codemirror_mode": {
    "name": "ipython",
    "version": 3
   },
   "file_extension": ".py",
   "mimetype": "text/x-python",
   "name": "python",
   "nbconvert_exporter": "python",
   "pygments_lexer": "ipython3",
   "version": "3.10.11"
  },
  "orig_nbformat": 4
 },
 "nbformat": 4,
 "nbformat_minor": 2
}
